{
 "cells": [
  {
   "cell_type": "code",
   "execution_count": 1,
   "id": "4e20fa61",
   "metadata": {},
   "outputs": [
    {
     "data": {
      "text/plain": [
       "27"
      ]
     },
     "execution_count": 1,
     "metadata": {},
     "output_type": "execute_result"
    }
   ],
   "source": [
    "3**3 # 3 to the power of three"
   ]
  },
  {
   "cell_type": "code",
   "execution_count": 2,
   "id": "0150edb7",
   "metadata": {},
   "outputs": [
    {
     "data": {
      "text/plain": [
       "45"
      ]
     },
     "execution_count": 2,
     "metadata": {},
     "output_type": "execute_result"
    }
   ],
   "source": [
    "3 + 5 * (3 + 7) - 8 # follows the order of operation"
   ]
  },
  {
   "cell_type": "code",
   "execution_count": 5,
   "id": "82ec9ac7",
   "metadata": {},
   "outputs": [
    {
     "data": {
      "text/plain": [
       "0"
      ]
     },
     "execution_count": 5,
     "metadata": {},
     "output_type": "execute_result"
    }
   ],
   "source": [
    "4 % 2 # remider of a division, \n",
    "      # easy way to check if the number is an even number\n"
   ]
  },
  {
   "cell_type": "code",
   "execution_count": 6,
   "id": "e5a8b6fa",
   "metadata": {},
   "outputs": [],
   "source": [
    "# it is not allowed to start a variable name with numbers and special signs"
   ]
  },
  {
   "cell_type": "code",
   "execution_count": 7,
   "id": "d935cedb",
   "metadata": {},
   "outputs": [],
   "source": [
    "num = 22\n",
    "name = 'Przemek'"
   ]
  },
  {
   "cell_type": "code",
   "execution_count": 9,
   "id": "b32d4eae",
   "metadata": {},
   "outputs": [
    {
     "name": "stdout",
     "output_type": "stream",
     "text": [
      "My age is 22 and my name is Przemek\n"
     ]
    }
   ],
   "source": [
    "print('My age is {} and my name is {}'.format(num,name)) \n",
    "# there will be variables' values \n",
    "# put in curly bracket in given order, \n",
    "# in this case num first and name second"
   ]
  },
  {
   "cell_type": "code",
   "execution_count": 11,
   "id": "07bafdf3",
   "metadata": {},
   "outputs": [
    {
     "name": "stdout",
     "output_type": "stream",
     "text": [
      "My age is 23 and my name is Krzys\n"
     ]
    }
   ],
   "source": [
    "print('My age is {one} and my name is {two}'.format(one=23,two='Krzys'))\n",
    "# one does not have to be worried about order of variables,\n",
    "# in a case before, we have to put it manually in a correct order "
   ]
  },
  {
   "cell_type": "code",
   "execution_count": 12,
   "id": "b30002ce",
   "metadata": {},
   "outputs": [],
   "source": [
    "s = 'abcdefghijk'"
   ]
  },
  {
   "cell_type": "code",
   "execution_count": 13,
   "id": "82e4f707",
   "metadata": {},
   "outputs": [
    {
     "data": {
      "text/plain": [
       "'abcdefghijk'"
      ]
     },
     "execution_count": 13,
     "metadata": {},
     "output_type": "execute_result"
    }
   ],
   "source": [
    "s[0:] # it grabs everything starting at the index 0 \n",
    "      # until the end of a string"
   ]
  },
  {
   "cell_type": "code",
   "execution_count": 14,
   "id": "647a16fa",
   "metadata": {},
   "outputs": [
    {
     "data": {
      "text/plain": [
       "'abc'"
      ]
     },
     "execution_count": 14,
     "metadata": {},
     "output_type": "execute_result"
    }
   ],
   "source": [
    "s[:3] # it grabs everything starting at the index 0 \n",
    "      # until the index 3 BUT IT IS NOT INCLUDED!"
   ]
  },
  {
   "cell_type": "code",
   "execution_count": 15,
   "id": "4b3fa525",
   "metadata": {},
   "outputs": [
    {
     "data": {
      "text/plain": [
       "'defg'"
      ]
     },
     "execution_count": 15,
     "metadata": {},
     "output_type": "execute_result"
    }
   ],
   "source": [
    "s[3:7] # starts at index 3(d) and ends at index 6(g), \n",
    "       # because index 7 is not included"
   ]
  },
  {
   "cell_type": "code",
   "execution_count": 16,
   "id": "1912a851",
   "metadata": {},
   "outputs": [
    {
     "data": {
      "text/plain": [
       "[1, 2, 3]"
      ]
     },
     "execution_count": 16,
     "metadata": {},
     "output_type": "execute_result"
    }
   ],
   "source": [
    "[1, 2, 3 ]"
   ]
  },
  {
   "cell_type": "code",
   "execution_count": 17,
   "id": "822c6d5c",
   "metadata": {},
   "outputs": [
    {
     "data": {
      "text/plain": [
       "['a', 'b', 'c']"
      ]
     },
     "execution_count": 17,
     "metadata": {},
     "output_type": "execute_result"
    }
   ],
   "source": [
    "['a', 'b', 'c']"
   ]
  },
  {
   "cell_type": "code",
   "execution_count": 18,
   "id": "2eb6a03e",
   "metadata": {},
   "outputs": [],
   "source": [
    "my_list = ['a', 'b', 'c']"
   ]
  },
  {
   "cell_type": "code",
   "execution_count": 19,
   "id": "251d375a",
   "metadata": {},
   "outputs": [],
   "source": [
    "my_list.append('d') # adds an element in the end of a list"
   ]
  },
  {
   "cell_type": "code",
   "execution_count": 20,
   "id": "a77f6410",
   "metadata": {},
   "outputs": [
    {
     "data": {
      "text/plain": [
       "['a', 'b', 'c', 'd']"
      ]
     },
     "execution_count": 20,
     "metadata": {},
     "output_type": "execute_result"
    }
   ],
   "source": [
    "my_list"
   ]
  },
  {
   "cell_type": "code",
   "execution_count": 21,
   "id": "ead1d99f",
   "metadata": {},
   "outputs": [],
   "source": [
    "my_list[0] = 'New element' # reassigning values to an element in a list"
   ]
  },
  {
   "cell_type": "code",
   "execution_count": 22,
   "id": "148a7a87",
   "metadata": {},
   "outputs": [
    {
     "data": {
      "text/plain": [
       "['New element', 'b', 'c', 'd']"
      ]
     },
     "execution_count": 22,
     "metadata": {},
     "output_type": "execute_result"
    }
   ],
   "source": [
    "my_list\n"
   ]
  },
  {
   "cell_type": "code",
   "execution_count": 26,
   "id": "2c96e369",
   "metadata": {},
   "outputs": [
    {
     "data": {
      "text/plain": [
       "[1, 2, 3, [4, 5, [6, 7, 8], 9, 10], 11]"
      ]
     },
     "execution_count": 26,
     "metadata": {},
     "output_type": "execute_result"
    }
   ],
   "source": [
    "nested_list = [1, 2, 3,[4, 5,[6,7,8],9 ,10], 11]\n",
    "nested_list"
   ]
  },
  {
   "cell_type": "code",
   "execution_count": 30,
   "id": "abf55556",
   "metadata": {},
   "outputs": [
    {
     "data": {
      "text/plain": [
       "8"
      ]
     },
     "execution_count": 30,
     "metadata": {},
     "output_type": "execute_result"
    }
   ],
   "source": [
    "nested_list[3][2][2]"
   ]
  },
  {
   "cell_type": "code",
   "execution_count": 32,
   "id": "e78b1a28",
   "metadata": {},
   "outputs": [],
   "source": [
    "d = {'key1':'value','kay2':123}"
   ]
  },
  {
   "cell_type": "code",
   "execution_count": 34,
   "id": "e45dea14",
   "metadata": {},
   "outputs": [
    {
     "data": {
      "text/plain": [
       "'value'"
      ]
     },
     "execution_count": 34,
     "metadata": {},
     "output_type": "execute_result"
    }
   ],
   "source": [
    "d['key1']"
   ]
  },
  {
   "cell_type": "code",
   "execution_count": 38,
   "id": "8568b783",
   "metadata": {},
   "outputs": [],
   "source": [
    "z = {'key1':[1,2,3],'key2':{'innerkey':[4,5,6]}}"
   ]
  },
  {
   "cell_type": "code",
   "execution_count": 39,
   "id": "11f02140",
   "metadata": {},
   "outputs": [
    {
     "data": {
      "text/plain": [
       "2"
      ]
     },
     "execution_count": 39,
     "metadata": {},
     "output_type": "execute_result"
    }
   ],
   "source": [
    "z['key1'][1]"
   ]
  },
  {
   "cell_type": "code",
   "execution_count": 40,
   "id": "788df6b9",
   "metadata": {},
   "outputs": [
    {
     "data": {
      "text/plain": [
       "5"
      ]
     },
     "execution_count": 40,
     "metadata": {},
     "output_type": "execute_result"
    }
   ],
   "source": [
    "z['key2']['innerkey'][1]"
   ]
  },
  {
   "cell_type": "code",
   "execution_count": 41,
   "id": "8eaa485c",
   "metadata": {},
   "outputs": [],
   "source": [
    "tuple = (1, 2, 3 ) #immutable!"
   ]
  },
  {
   "cell_type": "code",
   "execution_count": 42,
   "id": "b885fbb4",
   "metadata": {},
   "outputs": [
    {
     "data": {
      "text/plain": [
       "{1, 2, 3, 4, 5, 6, 7, 8, 9}"
      ]
     },
     "execution_count": 42,
     "metadata": {},
     "output_type": "execute_result"
    }
   ],
   "source": [
    "set([1,1,1,1,1,2,2,2,3,3,3,3,4,4,4,4,5,5,5,5,6,6,6,7,7,8,9,8,9,8,5,4,6,7,3,4,5,6])\n",
    "# prints only unique values"
   ]
  },
  {
   "cell_type": "code",
   "execution_count": 43,
   "id": "b68c3375",
   "metadata": {},
   "outputs": [
    {
     "data": {
      "text/plain": [
       "True"
      ]
     },
     "execution_count": 43,
     "metadata": {},
     "output_type": "execute_result"
    }
   ],
   "source": [
    "(1 < 2 ) and ( 2 < 3)"
   ]
  },
  {
   "cell_type": "code",
   "execution_count": 44,
   "id": "9989ec03",
   "metadata": {},
   "outputs": [
    {
     "data": {
      "text/plain": [
       "True"
      ]
     },
     "execution_count": 44,
     "metadata": {},
     "output_type": "execute_result"
    }
   ],
   "source": [
    "(1 < 5) or (2 > 3 ) or (1 == 1)"
   ]
  },
  {
   "cell_type": "code",
   "execution_count": 47,
   "id": "56425311",
   "metadata": {},
   "outputs": [
    {
     "name": "stdout",
     "output_type": "stream",
     "text": [
      "NO\n"
     ]
    }
   ],
   "source": [
    "if 1==2:\n",
    "    print('Yes')\n",
    "else:\n",
    "    print('NO')"
   ]
  },
  {
   "cell_type": "code",
   "execution_count": 48,
   "id": "8b447225",
   "metadata": {},
   "outputs": [],
   "source": [
    " seq = [1,2,3,4,5]"
   ]
  },
  {
   "cell_type": "code",
   "execution_count": 50,
   "id": "0034d0bf",
   "metadata": {},
   "outputs": [
    {
     "name": "stdout",
     "output_type": "stream",
     "text": [
      "2\n",
      "4\n",
      "6\n",
      "8\n",
      "10\n"
     ]
    }
   ],
   "source": [
    "for item in seq:\n",
    "    print(item*2)"
   ]
  },
  {
   "cell_type": "code",
   "execution_count": 51,
   "id": "ebbffbec",
   "metadata": {},
   "outputs": [
    {
     "name": "stdout",
     "output_type": "stream",
     "text": [
      "i is: 1\n",
      "i is: 2\n",
      "i is: 3\n",
      "i is: 4\n"
     ]
    }
   ],
   "source": [
    "i = 1 \n",
    "while i < 5:\n",
    "    print('i is: {}'.format(i))\n",
    "    i = i+1"
   ]
  },
  {
   "cell_type": "code",
   "execution_count": 55,
   "id": "a34c2028",
   "metadata": {},
   "outputs": [
    {
     "name": "stdout",
     "output_type": "stream",
     "text": [
      "0\n",
      "1\n",
      "2\n",
      "3\n",
      "4\n"
     ]
    }
   ],
   "source": [
    "for x in range(0,5): \n",
    "    print(x)\n",
    "# generator creating numbers increased by 1 from a starting number(included) \n",
    "# until the last number(not included). \n",
    "# The number of elements is the last number in range generator (in this case 5)"
   ]
  },
  {
   "cell_type": "code",
   "execution_count": 59,
   "id": "1fcc3c32",
   "metadata": {},
   "outputs": [],
   "source": [
    "x = [1,2,3,4]"
   ]
  },
  {
   "cell_type": "code",
   "execution_count": 60,
   "id": "35f87158",
   "metadata": {},
   "outputs": [
    {
     "data": {
      "text/plain": [
       "[1, 4, 9, 16]"
      ]
     },
     "execution_count": 60,
     "metadata": {},
     "output_type": "execute_result"
    }
   ],
   "source": [
    "[num**2 for num in x] # list comprehension!!!"
   ]
  },
  {
   "cell_type": "code",
   "execution_count": 67,
   "id": "0dad31e9",
   "metadata": {},
   "outputs": [],
   "source": [
    "def my_func(name='Default Name'): # if we do not specify the name, this will be printed\n",
    "    print('Hello ' +name) #concatinate "
   ]
  },
  {
   "cell_type": "code",
   "execution_count": 68,
   "id": "31508d0c",
   "metadata": {},
   "outputs": [
    {
     "name": "stdout",
     "output_type": "stream",
     "text": [
      "Hello Przemek\n"
     ]
    }
   ],
   "source": [
    "my_func('Przemek')"
   ]
  },
  {
   "cell_type": "code",
   "execution_count": 69,
   "id": "b36f6103",
   "metadata": {},
   "outputs": [
    {
     "name": "stdout",
     "output_type": "stream",
     "text": [
      "Hello Default Name\n"
     ]
    }
   ],
   "source": [
    "my_func()"
   ]
  },
  {
   "cell_type": "code",
   "execution_count": 74,
   "id": "fb1226e6",
   "metadata": {},
   "outputs": [],
   "source": [
    "def square(num):\n",
    "    '''\n",
    "    THIS IS A LONG COMMENT BEETWEN TRIPLE STRINGS.\n",
    "    IT CAN BE MULTILINE.\n",
    "    EASY WAY TO COMMENT A FUNCTION.\n",
    "    '''\n",
    "    return num**2"
   ]
  },
  {
   "cell_type": "code",
   "execution_count": 73,
   "id": "14f34a51",
   "metadata": {},
   "outputs": [
    {
     "data": {
      "text/plain": [
       "16"
      ]
     },
     "execution_count": 73,
     "metadata": {},
     "output_type": "execute_result"
    }
   ],
   "source": [
    "output = square(4)\n",
    "output"
   ]
  },
  {
   "cell_type": "code",
   "execution_count": 75,
   "id": "0ef6e974",
   "metadata": {},
   "outputs": [],
   "source": [
    "# if we press shift + tab, it gives us a documentation description \n",
    "# for any function f. e range"
   ]
  },
  {
   "cell_type": "code",
   "execution_count": 76,
   "id": "5a512635",
   "metadata": {},
   "outputs": [],
   "source": [
    "def times2(var):\n",
    "    return var*2"
   ]
  },
  {
   "cell_type": "code",
   "execution_count": 77,
   "id": "651c2c27",
   "metadata": {},
   "outputs": [
    {
     "data": {
      "text/plain": [
       "10"
      ]
     },
     "execution_count": 77,
     "metadata": {},
     "output_type": "execute_result"
    }
   ],
   "source": [
    "times2(5)"
   ]
  },
  {
   "cell_type": "code",
   "execution_count": 78,
   "id": "5db32833",
   "metadata": {},
   "outputs": [],
   "source": [
    "# map() !!!!!!!!"
   ]
  },
  {
   "cell_type": "code",
   "execution_count": 79,
   "id": "60718b4f",
   "metadata": {},
   "outputs": [],
   "source": [
    "seq = [1, 2, 3, 4, 5]"
   ]
  },
  {
   "cell_type": "code",
   "execution_count": 80,
   "id": "8e3b8b0f",
   "metadata": {},
   "outputs": [
    {
     "data": {
      "text/plain": [
       "[2, 4, 6, 8, 10]"
      ]
     },
     "execution_count": 80,
     "metadata": {},
     "output_type": "execute_result"
    }
   ],
   "source": [
    "list(map(times2,seq)) # it takes a function and applies it to every element in a sequence, f. e list"
   ]
  },
  {
   "cell_type": "code",
   "execution_count": 81,
   "id": "b3c4f030",
   "metadata": {},
   "outputs": [],
   "source": [
    "# lambda !!!!!"
   ]
  },
  {
   "cell_type": "code",
   "execution_count": 83,
   "id": "722c56bd",
   "metadata": {},
   "outputs": [],
   "source": [
    "# lambda(var): var*2 - we skip words that are unnecessary in a function, \n",
    "# common while using map on a sequence "
   ]
  },
  {
   "cell_type": "code",
   "execution_count": 84,
   "id": "d41c1a24",
   "metadata": {},
   "outputs": [
    {
     "data": {
      "text/plain": [
       "[3, 6, 9, 12, 15]"
      ]
     },
     "execution_count": 84,
     "metadata": {},
     "output_type": "execute_result"
    }
   ],
   "source": [
    "list(map(lambda num: num*3, seq))"
   ]
  },
  {
   "cell_type": "code",
   "execution_count": 85,
   "id": "26ec9890",
   "metadata": {},
   "outputs": [],
   "source": [
    "# filer() - filters out elements out elements of a sequence\n"
   ]
  },
  {
   "cell_type": "code",
   "execution_count": 89,
   "id": "06117646",
   "metadata": {},
   "outputs": [
    {
     "data": {
      "text/plain": [
       "[2, 4]"
      ]
     },
     "execution_count": 89,
     "metadata": {},
     "output_type": "execute_result"
    }
   ],
   "source": [
    "list(filter(lambda num:num%2 == 0, seq)) \n",
    "# lambda takes a num and returns only even numbers in our sequence, \n",
    "#filter has to take a function that returns true or false value"
   ]
  },
  {
   "cell_type": "code",
   "execution_count": 93,
   "id": "fa5c9858",
   "metadata": {},
   "outputs": [
    {
     "data": {
      "text/plain": [
       "'HELLO MY NAME IS PRZEMEK'"
      ]
     },
     "execution_count": 93,
     "metadata": {},
     "output_type": "execute_result"
    }
   ],
   "source": [
    "#string methods\n",
    "s = 'Hello My name is Przemek'\n",
    "s.upper() # uppercase"
   ]
  },
  {
   "cell_type": "code",
   "execution_count": 94,
   "id": "aa03f9a3",
   "metadata": {},
   "outputs": [
    {
     "data": {
      "text/plain": [
       "'hello my name is przemek'"
      ]
     },
     "execution_count": 94,
     "metadata": {},
     "output_type": "execute_result"
    }
   ],
   "source": [
    "s.lower() # lowercase"
   ]
  },
  {
   "cell_type": "code",
   "execution_count": 95,
   "id": "8c12dcb8",
   "metadata": {},
   "outputs": [
    {
     "data": {
      "text/plain": [
       "['Hello', 'My', 'name', 'is', 'Przemek']"
      ]
     },
     "execution_count": 95,
     "metadata": {},
     "output_type": "execute_result"
    }
   ],
   "source": [
    "s.split() # splits a string on all whitespaces! "
   ]
  },
  {
   "cell_type": "code",
   "execution_count": 96,
   "id": "bacbc055",
   "metadata": {},
   "outputs": [],
   "source": [
    "text = 'I love germany, es ist vonderful! I love #apfelstrudel'"
   ]
  },
  {
   "cell_type": "code",
   "execution_count": 98,
   "id": "7b33c8ef",
   "metadata": {},
   "outputs": [
    {
     "data": {
      "text/plain": [
       "['I love germany, es ist vonderful! I love ', 'apfelstrudel']"
      ]
     },
     "execution_count": 98,
     "metadata": {},
     "output_type": "execute_result"
    }
   ],
   "source": [
    "text.split('#') # it splits a string on a particular element"
   ]
  },
  {
   "cell_type": "code",
   "execution_count": 101,
   "id": "07fb7468",
   "metadata": {},
   "outputs": [],
   "source": [
    "dictionary = {'k1': 1, 'k2': 2} #keys always as strings!\n"
   ]
  },
  {
   "cell_type": "code",
   "execution_count": 102,
   "id": "729036c0",
   "metadata": {},
   "outputs": [
    {
     "data": {
      "text/plain": [
       "dict_keys(['k1', 'k2'])"
      ]
     },
     "execution_count": 102,
     "metadata": {},
     "output_type": "execute_result"
    }
   ],
   "source": [
    "dictionary.keys()"
   ]
  },
  {
   "cell_type": "code",
   "execution_count": 103,
   "id": "57e1c97c",
   "metadata": {},
   "outputs": [
    {
     "data": {
      "text/plain": [
       "dict_values([1, 2])"
      ]
     },
     "execution_count": 103,
     "metadata": {},
     "output_type": "execute_result"
    }
   ],
   "source": [
    "dictionary.values()"
   ]
  },
  {
   "cell_type": "code",
   "execution_count": 117,
   "id": "3d7d9deb",
   "metadata": {},
   "outputs": [],
   "source": [
    "list = [1,2,3,4,5]"
   ]
  },
  {
   "cell_type": "code",
   "execution_count": 118,
   "id": "ab8fdee8",
   "metadata": {},
   "outputs": [
    {
     "data": {
      "text/plain": [
       "5"
      ]
     },
     "execution_count": 118,
     "metadata": {},
     "output_type": "execute_result"
    }
   ],
   "source": [
    "list.pop() # pops the last item and returns it, it affects the original list"
   ]
  },
  {
   "cell_type": "code",
   "execution_count": 120,
   "id": "dde0fb45",
   "metadata": {},
   "outputs": [],
   "source": [
    "list.append('kupa') # adds an element at the end of a list"
   ]
  },
  {
   "cell_type": "code",
   "execution_count": 121,
   "id": "ad84ae95",
   "metadata": {},
   "outputs": [
    {
     "name": "stdout",
     "output_type": "stream",
     "text": [
      "[1, 2, 3, 4, 'kupa']\n"
     ]
    }
   ],
   "source": [
    "print(list)"
   ]
  },
  {
   "cell_type": "code",
   "execution_count": 122,
   "id": "0512c7c0",
   "metadata": {},
   "outputs": [],
   "source": [
    "# tuple unpacking"
   ]
  },
  {
   "cell_type": "code",
   "execution_count": 123,
   "id": "b2dab4c2",
   "metadata": {},
   "outputs": [],
   "source": [
    "x = [(1,2),(3,4),(5,6)]"
   ]
  },
  {
   "cell_type": "code",
   "execution_count": 126,
   "id": "5968e1c3",
   "metadata": {},
   "outputs": [
    {
     "name": "stdout",
     "output_type": "stream",
     "text": [
      "1\n",
      "3\n",
      "5\n"
     ]
    }
   ],
   "source": [
    "for (a,b) in x:\n",
    "    print(a) \n",
    "    \n",
    "# prints only one element of a tuple, \n",
    "# we can put (a,b) to get both of them or the whole tuple "
   ]
  }
 ],
 "metadata": {
  "kernelspec": {
   "display_name": "Python 3 (ipykernel)",
   "language": "python",
   "name": "python3"
  },
  "language_info": {
   "codemirror_mode": {
    "name": "ipython",
    "version": 3
   },
   "file_extension": ".py",
   "mimetype": "text/x-python",
   "name": "python",
   "nbconvert_exporter": "python",
   "pygments_lexer": "ipython3",
   "version": "3.9.12"
  }
 },
 "nbformat": 4,
 "nbformat_minor": 5
}
